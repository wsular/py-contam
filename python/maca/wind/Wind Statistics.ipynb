{
 "cells": [
  {
   "cell_type": "markdown",
   "metadata": {},
   "source": [
    "# Analysis of diurnal wind features across the U.S. "
   ]
  },
  {
   "cell_type": "code",
   "execution_count": 1,
   "metadata": {},
   "outputs": [
    {
     "name": "stdout",
     "output_type": "stream",
     "text": [
      "Populating the interactive namespace from numpy and matplotlib\n"
     ]
    }
   ],
   "source": [
    "%pylab inline\n",
    "\n",
    "import pandas as pd"
   ]
  },
  {
   "cell_type": "code",
   "execution_count": 2,
   "metadata": {},
   "outputs": [],
   "source": [
    "def readNOAA_ISH(USAF, WBAN, year):\n",
    "    \"\"\"This function reads data from NOAA ISH data files for U.S.\n",
    "    cities used for CONTAM modeling in the EPA indoor air quality\n",
    "    project.\n",
    "    \n",
    "    Input:\n",
    "        USAF - USAF station identifier  (as a string)\n",
    "        WBAN - WBAN station identifier  (as a string)\n",
    "        year - Desired year, e.g., 2010 (as an integer)\n",
    "\n",
    "    Written by Von P. Walden, Washington State University\n",
    "               12 Nov 2017\n",
    "\n",
    "    \"\"\"\n",
    "    def pressureCorrection(Ps, Hstn, Tstn):\n",
    "        \"\"\"Calculate the station pressure in hPa from the sea-level pressure\n",
    "        (Ps) and the station temperature (Tstn). The correction comes from\n",
    "        http://www.weather.gov/media/epz/wxcalc/stationPressure.pdf. This\n",
    "        correction was quickly checked against the hypsometric equation and was\n",
    "        shown to be adequate; see pressureCorrectionTest.py.\n",
    "        \n",
    "        Inputs:\n",
    "            Hstn - elevation (height) of weather station (meters)\n",
    "            Ps   - sea-level pressure in Pa\n",
    "            Tstn - temperature measured at the weather station (K)\n",
    "        \n",
    "        Output:\n",
    "            Atmospheric pressure at the weather station\n",
    "            \n",
    "        Written by Von P. Walden, Washington State University\n",
    "                    19 November 2017\n",
    "        \"\"\"\n",
    "        Lrate = 0.0065*Hstn     # LRate is the approximate lapse rate (K m-1)\n",
    "        return Ps*((Tstn - Lrate)/Tstn)**5.2561\n",
    "    \n",
    "    # NOAA ISH parser comes from:\n",
    "    #    https://github.com/haydenth/ish_parser\n",
    "    from ish_parser import ish_parser\n",
    "    import pandas as pd\n",
    "    import numpy  as np\n",
    "    \n",
    "    # Construct filename of the desired data and read entire file.\n",
    "    fn      = '/Volumes/vonw/data/iaq/NCDC/ish/3505v2' + USAF + '-' + WBAN + str(year) + '.op'\n",
    "    f       = open(fn)\n",
    "    content = f.read()\n",
    "    f.close()\n",
    "    \n",
    "    # Read the observations from the desired file.\n",
    "    wf   = ish_parser()\n",
    "    wf.loads(content)\n",
    "    obs  = wf.get_observations()\n",
    "\n",
    "    # Create a datetime index.\n",
    "    #\n",
    "    time = np.array([ob.datetime for ob in obs])\n",
    "\n",
    "    # ............................... WEATHER DATA ............................\n",
    "    #\n",
    "    Hstn = np.array([ob.elevation for ob in obs])                               # meters\n",
    "    T    = np.array([ob.air_temperature.get_numeric() for ob in obs])           # deg C\n",
    "    Ps   = np.array([ob.sea_level_pressure.get_numeric() for ob in obs])*100.   # Pa\n",
    "    Pb   = pressureCorrection(Ps, Hstn, T+273.15)                               # Pa\n",
    "    wspd = np.array([ob.wind_speed.get_numeric() for ob in obs])                # m s-1 \n",
    "    wdir = np.array([ob.wind_direction.get_numeric() for ob in obs])            # degrees\n",
    "    # Conversion from relative humidity to mixing ration \n",
    "    #    ....http://www.vaisala.com/Vaisala%20Documents/Application%20notes/Humidity_Conversion_Formulas_B210973EN-F.pdf\n",
    "    A    = 6.116441\n",
    "    m    = 7.591386\n",
    "    Tn   = 240.7263\n",
    "    es   = A*10**(m*(T)/(T+Tn))\n",
    "    ws   = 0.622 * (es/Pb)\n",
    "    w    = np.array([ob.humidity.get_numeric() for ob in obs]) * ws * 1000.     # Factor of 1000 converts from kg/kg to g/kg.\n",
    "    # Calculation of air density\n",
    "    Rd   = 287.                                                                 # Gas constant for dry air; J kg-1 K-1\n",
    "    rho  = Pb / (Rd * (T+273.15))\n",
    "    # Create a pandas DataFrame that contains the weather data.\n",
    "    wth   = pd.DataFrame({'Ta'       : T+273.15,\n",
    "                          'Pb'       : Pb,\n",
    "                          'Ws'       : wspd,\n",
    "                          'Wd'       : wdir,\n",
    "                          'Hr'       : w,\n",
    "                          'rho'      : rho,\n",
    "                          'elevation': Hstn},\n",
    "                          index=time)\n",
    "    \n",
    "    # Resample the dataframe to an hourly time step.\n",
    "    wth = wth.resample('H').mean()\n",
    "    \n",
    "    return wth\n",
    "\n"
   ]
  },
  {
   "cell_type": "code",
   "execution_count": 3,
   "metadata": {},
   "outputs": [],
   "source": [
    "stations = pd.read_csv('/Volumes/vonw/data/iaq/NCDC/ish/isd-history-IAQ.csv')"
   ]
  },
  {
   "cell_type": "code",
   "execution_count": 4,
   "metadata": {
    "scrolled": false
   },
   "outputs": [
    {
     "data": {
      "text/html": [
       "<div>\n",
       "<style scoped>\n",
       "    .dataframe tbody tr th:only-of-type {\n",
       "        vertical-align: middle;\n",
       "    }\n",
       "\n",
       "    .dataframe tbody tr th {\n",
       "        vertical-align: top;\n",
       "    }\n",
       "\n",
       "    .dataframe thead th {\n",
       "        text-align: right;\n",
       "    }\n",
       "</style>\n",
       "<table border=\"1\" class=\"dataframe\">\n",
       "  <thead>\n",
       "    <tr style=\"text-align: right;\">\n",
       "      <th></th>\n",
       "      <th>CITY</th>\n",
       "      <th>USAF</th>\n",
       "      <th>WBAN</th>\n",
       "      <th>STATION NAME</th>\n",
       "      <th>CTRY</th>\n",
       "      <th>STATE</th>\n",
       "      <th>ICAO</th>\n",
       "      <th>LAT</th>\n",
       "      <th>LON</th>\n",
       "      <th>ELEV(M)</th>\n",
       "      <th>BEGIN</th>\n",
       "      <th>END</th>\n",
       "    </tr>\n",
       "  </thead>\n",
       "  <tbody>\n",
       "    <tr>\n",
       "      <th>0</th>\n",
       "      <td>Chicago</td>\n",
       "      <td>725300</td>\n",
       "      <td>94846</td>\n",
       "      <td>CHICAGO O'HARE INTERNATIONAL AIRPORT</td>\n",
       "      <td>US</td>\n",
       "      <td>IL</td>\n",
       "      <td>KORD</td>\n",
       "      <td>41.995</td>\n",
       "      <td>-87.934</td>\n",
       "      <td>201.8</td>\n",
       "      <td>19461001</td>\n",
       "      <td>20171107</td>\n",
       "    </tr>\n",
       "    <tr>\n",
       "      <th>1</th>\n",
       "      <td>Cincinnati</td>\n",
       "      <td>724210</td>\n",
       "      <td>93814</td>\n",
       "      <td>CINCINNATI/NORTHERN KENTUCKY INTL AP</td>\n",
       "      <td>US</td>\n",
       "      <td>KY</td>\n",
       "      <td>KCVG</td>\n",
       "      <td>39.044</td>\n",
       "      <td>-84.672</td>\n",
       "      <td>269.1</td>\n",
       "      <td>19730101</td>\n",
       "      <td>20171107</td>\n",
       "    </tr>\n",
       "    <tr>\n",
       "      <th>2</th>\n",
       "      <td>Nashville</td>\n",
       "      <td>723270</td>\n",
       "      <td>13897</td>\n",
       "      <td>NASHVILLE INTERNATIONAL AIRPORT</td>\n",
       "      <td>US</td>\n",
       "      <td>TN</td>\n",
       "      <td>KBNA</td>\n",
       "      <td>36.119</td>\n",
       "      <td>-86.689</td>\n",
       "      <td>182.9</td>\n",
       "      <td>19510101</td>\n",
       "      <td>20171108</td>\n",
       "    </tr>\n",
       "    <tr>\n",
       "      <th>3</th>\n",
       "      <td>Birmingham</td>\n",
       "      <td>722280</td>\n",
       "      <td>13876</td>\n",
       "      <td>BIRMINGHAM INTERNATIONAL AIRPORT</td>\n",
       "      <td>US</td>\n",
       "      <td>AL</td>\n",
       "      <td>KBHM</td>\n",
       "      <td>33.566</td>\n",
       "      <td>-86.745</td>\n",
       "      <td>187.5</td>\n",
       "      <td>19420801</td>\n",
       "      <td>20171107</td>\n",
       "    </tr>\n",
       "    <tr>\n",
       "      <th>4</th>\n",
       "      <td>NewYork</td>\n",
       "      <td>725030</td>\n",
       "      <td>14732</td>\n",
       "      <td>LA GUARDIA AIRPORT</td>\n",
       "      <td>US</td>\n",
       "      <td>NY</td>\n",
       "      <td>KLGA</td>\n",
       "      <td>40.779</td>\n",
       "      <td>-73.880</td>\n",
       "      <td>3.4</td>\n",
       "      <td>19730101</td>\n",
       "      <td>20171107</td>\n",
       "    </tr>\n",
       "    <tr>\n",
       "      <th>5</th>\n",
       "      <td>Buffalo</td>\n",
       "      <td>725280</td>\n",
       "      <td>14733</td>\n",
       "      <td>BUFFALO NIAGARA INTERNATIONAL AP</td>\n",
       "      <td>US</td>\n",
       "      <td>NY</td>\n",
       "      <td>KBUF</td>\n",
       "      <td>42.941</td>\n",
       "      <td>-78.736</td>\n",
       "      <td>218.2</td>\n",
       "      <td>19420201</td>\n",
       "      <td>20171107</td>\n",
       "    </tr>\n",
       "    <tr>\n",
       "      <th>6</th>\n",
       "      <td>Phoenix</td>\n",
       "      <td>722780</td>\n",
       "      <td>23183</td>\n",
       "      <td>PHOENIX SKY HARBOR INTL AIRPORT</td>\n",
       "      <td>US</td>\n",
       "      <td>AZ</td>\n",
       "      <td>KPHX</td>\n",
       "      <td>33.428</td>\n",
       "      <td>-112.004</td>\n",
       "      <td>337.4</td>\n",
       "      <td>19730101</td>\n",
       "      <td>20171107</td>\n",
       "    </tr>\n",
       "    <tr>\n",
       "      <th>7</th>\n",
       "      <td>Denver</td>\n",
       "      <td>725650</td>\n",
       "      <td>3017</td>\n",
       "      <td>DENVER INTERNATIONAL AIRPORT</td>\n",
       "      <td>US</td>\n",
       "      <td>CO</td>\n",
       "      <td>KDEN</td>\n",
       "      <td>39.833</td>\n",
       "      <td>-104.658</td>\n",
       "      <td>1650.2</td>\n",
       "      <td>19940718</td>\n",
       "      <td>20171107</td>\n",
       "    </tr>\n",
       "    <tr>\n",
       "      <th>8</th>\n",
       "      <td>Boston</td>\n",
       "      <td>725090</td>\n",
       "      <td>14739</td>\n",
       "      <td>GEN E L LOGAN INTERNATIONAL AIRPORT</td>\n",
       "      <td>US</td>\n",
       "      <td>MA</td>\n",
       "      <td>KBOS</td>\n",
       "      <td>42.361</td>\n",
       "      <td>-71.010</td>\n",
       "      <td>3.7</td>\n",
       "      <td>19431121</td>\n",
       "      <td>20171107</td>\n",
       "    </tr>\n",
       "    <tr>\n",
       "      <th>9</th>\n",
       "      <td>Worcester</td>\n",
       "      <td>725100</td>\n",
       "      <td>94746</td>\n",
       "      <td>WORCESTER REGIONAL AIRPORT</td>\n",
       "      <td>US</td>\n",
       "      <td>MA</td>\n",
       "      <td>KORH</td>\n",
       "      <td>42.271</td>\n",
       "      <td>-71.873</td>\n",
       "      <td>304.8</td>\n",
       "      <td>20100801</td>\n",
       "      <td>20171107</td>\n",
       "    </tr>\n",
       "    <tr>\n",
       "      <th>10</th>\n",
       "      <td>LosAngeles</td>\n",
       "      <td>722950</td>\n",
       "      <td>23174</td>\n",
       "      <td>LOS ANGELES INTERNATIONAL AIRPORT</td>\n",
       "      <td>US</td>\n",
       "      <td>CA</td>\n",
       "      <td>KLAX</td>\n",
       "      <td>33.938</td>\n",
       "      <td>-118.389</td>\n",
       "      <td>29.6</td>\n",
       "      <td>19440101</td>\n",
       "      <td>20171107</td>\n",
       "    </tr>\n",
       "    <tr>\n",
       "      <th>11</th>\n",
       "      <td>Seattle</td>\n",
       "      <td>727930</td>\n",
       "      <td>24233</td>\n",
       "      <td>SEATTLE-TACOMA INTERNATIONAL AIRPORT</td>\n",
       "      <td>US</td>\n",
       "      <td>WA</td>\n",
       "      <td>KSEA</td>\n",
       "      <td>47.444</td>\n",
       "      <td>-122.314</td>\n",
       "      <td>112.8</td>\n",
       "      <td>19480101</td>\n",
       "      <td>20171107</td>\n",
       "    </tr>\n",
       "    <tr>\n",
       "      <th>12</th>\n",
       "      <td>Miami</td>\n",
       "      <td>722020</td>\n",
       "      <td>12839</td>\n",
       "      <td>MIAMI INTERNATIONAL AIRPORT</td>\n",
       "      <td>US</td>\n",
       "      <td>FL</td>\n",
       "      <td>KMIA</td>\n",
       "      <td>25.791</td>\n",
       "      <td>-80.316</td>\n",
       "      <td>8.8</td>\n",
       "      <td>19730101</td>\n",
       "      <td>20171107</td>\n",
       "    </tr>\n",
       "    <tr>\n",
       "      <th>13</th>\n",
       "      <td>WashingtonDC</td>\n",
       "      <td>724030</td>\n",
       "      <td>93738</td>\n",
       "      <td>WASHINGTON DULLES INTERNATIONAL AP</td>\n",
       "      <td>US</td>\n",
       "      <td>VA</td>\n",
       "      <td>KIAD</td>\n",
       "      <td>38.935</td>\n",
       "      <td>-77.447</td>\n",
       "      <td>88.4</td>\n",
       "      <td>19730101</td>\n",
       "      <td>20171107</td>\n",
       "    </tr>\n",
       "    <tr>\n",
       "      <th>14</th>\n",
       "      <td>Atlanta</td>\n",
       "      <td>722190</td>\n",
       "      <td>13874</td>\n",
       "      <td>HARTSFIELD-JACKSON ATLANTA INTL AP</td>\n",
       "      <td>US</td>\n",
       "      <td>GA</td>\n",
       "      <td>KATL</td>\n",
       "      <td>33.630</td>\n",
       "      <td>-84.442</td>\n",
       "      <td>307.9</td>\n",
       "      <td>19730101</td>\n",
       "      <td>20171108</td>\n",
       "    </tr>\n",
       "    <tr>\n",
       "      <th>15</th>\n",
       "      <td>Minneapolis</td>\n",
       "      <td>726580</td>\n",
       "      <td>14922</td>\n",
       "      <td>MINNEAPOLIS-ST PAUL INTERNATIONAL AP</td>\n",
       "      <td>US</td>\n",
       "      <td>MN</td>\n",
       "      <td>KMSP</td>\n",
       "      <td>44.883</td>\n",
       "      <td>-93.229</td>\n",
       "      <td>265.8</td>\n",
       "      <td>19450101</td>\n",
       "      <td>20171107</td>\n",
       "    </tr>\n",
       "    <tr>\n",
       "      <th>16</th>\n",
       "      <td>StLouis</td>\n",
       "      <td>724340</td>\n",
       "      <td>13994</td>\n",
       "      <td>LAMBERT-ST LOUIS INTERNATIONAL AP</td>\n",
       "      <td>US</td>\n",
       "      <td>MO</td>\n",
       "      <td>KSTL</td>\n",
       "      <td>38.753</td>\n",
       "      <td>-90.374</td>\n",
       "      <td>161.9</td>\n",
       "      <td>19730101</td>\n",
       "      <td>20171107</td>\n",
       "    </tr>\n",
       "    <tr>\n",
       "      <th>17</th>\n",
       "      <td>Dallas</td>\n",
       "      <td>722590</td>\n",
       "      <td>3927</td>\n",
       "      <td>DALLAS/FT WORTH INTERNATIONAL AP</td>\n",
       "      <td>US</td>\n",
       "      <td>TX</td>\n",
       "      <td>KDFW</td>\n",
       "      <td>32.898</td>\n",
       "      <td>-97.019</td>\n",
       "      <td>170.7</td>\n",
       "      <td>19730101</td>\n",
       "      <td>20171107</td>\n",
       "    </tr>\n",
       "    <tr>\n",
       "      <th>18</th>\n",
       "      <td>CorpusChristi</td>\n",
       "      <td>722510</td>\n",
       "      <td>12924</td>\n",
       "      <td>CORPUS CHRISTI  INTERNATIONAL AIRPORT</td>\n",
       "      <td>US</td>\n",
       "      <td>TX</td>\n",
       "      <td>KCRP</td>\n",
       "      <td>27.774</td>\n",
       "      <td>-97.512</td>\n",
       "      <td>13.4</td>\n",
       "      <td>19460801</td>\n",
       "      <td>20171107</td>\n",
       "    </tr>\n",
       "  </tbody>\n",
       "</table>\n",
       "</div>"
      ],
      "text/plain": [
       "             CITY    USAF   WBAN                           STATION NAME CTRY  \\\n",
       "0         Chicago  725300  94846   CHICAGO O'HARE INTERNATIONAL AIRPORT   US   \n",
       "1      Cincinnati  724210  93814   CINCINNATI/NORTHERN KENTUCKY INTL AP   US   \n",
       "2       Nashville  723270  13897        NASHVILLE INTERNATIONAL AIRPORT   US   \n",
       "3      Birmingham  722280  13876       BIRMINGHAM INTERNATIONAL AIRPORT   US   \n",
       "4         NewYork  725030  14732                     LA GUARDIA AIRPORT   US   \n",
       "5         Buffalo  725280  14733       BUFFALO NIAGARA INTERNATIONAL AP   US   \n",
       "6         Phoenix  722780  23183        PHOENIX SKY HARBOR INTL AIRPORT   US   \n",
       "7          Denver  725650   3017           DENVER INTERNATIONAL AIRPORT   US   \n",
       "8          Boston  725090  14739    GEN E L LOGAN INTERNATIONAL AIRPORT   US   \n",
       "9       Worcester  725100  94746             WORCESTER REGIONAL AIRPORT   US   \n",
       "10     LosAngeles  722950  23174      LOS ANGELES INTERNATIONAL AIRPORT   US   \n",
       "11        Seattle  727930  24233   SEATTLE-TACOMA INTERNATIONAL AIRPORT   US   \n",
       "12          Miami  722020  12839            MIAMI INTERNATIONAL AIRPORT   US   \n",
       "13   WashingtonDC  724030  93738     WASHINGTON DULLES INTERNATIONAL AP   US   \n",
       "14        Atlanta  722190  13874     HARTSFIELD-JACKSON ATLANTA INTL AP   US   \n",
       "15    Minneapolis  726580  14922   MINNEAPOLIS-ST PAUL INTERNATIONAL AP   US   \n",
       "16        StLouis  724340  13994      LAMBERT-ST LOUIS INTERNATIONAL AP   US   \n",
       "17         Dallas  722590   3927       DALLAS/FT WORTH INTERNATIONAL AP   US   \n",
       "18  CorpusChristi  722510  12924  CORPUS CHRISTI  INTERNATIONAL AIRPORT   US   \n",
       "\n",
       "   STATE  ICAO     LAT      LON  ELEV(M)     BEGIN       END  \n",
       "0     IL  KORD  41.995  -87.934    201.8  19461001  20171107  \n",
       "1     KY  KCVG  39.044  -84.672    269.1  19730101  20171107  \n",
       "2     TN  KBNA  36.119  -86.689    182.9  19510101  20171108  \n",
       "3     AL  KBHM  33.566  -86.745    187.5  19420801  20171107  \n",
       "4     NY  KLGA  40.779  -73.880      3.4  19730101  20171107  \n",
       "5     NY  KBUF  42.941  -78.736    218.2  19420201  20171107  \n",
       "6     AZ  KPHX  33.428 -112.004    337.4  19730101  20171107  \n",
       "7     CO  KDEN  39.833 -104.658   1650.2  19940718  20171107  \n",
       "8     MA  KBOS  42.361  -71.010      3.7  19431121  20171107  \n",
       "9     MA  KORH  42.271  -71.873    304.8  20100801  20171107  \n",
       "10    CA  KLAX  33.938 -118.389     29.6  19440101  20171107  \n",
       "11    WA  KSEA  47.444 -122.314    112.8  19480101  20171107  \n",
       "12    FL  KMIA  25.791  -80.316      8.8  19730101  20171107  \n",
       "13    VA  KIAD  38.935  -77.447     88.4  19730101  20171107  \n",
       "14    GA  KATL  33.630  -84.442    307.9  19730101  20171108  \n",
       "15    MN  KMSP  44.883  -93.229    265.8  19450101  20171107  \n",
       "16    MO  KSTL  38.753  -90.374    161.9  19730101  20171107  \n",
       "17    TX  KDFW  32.898  -97.019    170.7  19730101  20171107  \n",
       "18    TX  KCRP  27.774  -97.512     13.4  19460801  20171107  "
      ]
     },
     "execution_count": 4,
     "metadata": {},
     "output_type": "execute_result"
    }
   ],
   "source": [
    "stations"
   ]
  },
  {
   "cell_type": "markdown",
   "metadata": {},
   "source": [
    "## CHICAGO"
   ]
  },
  {
   "cell_type": "code",
   "execution_count": 5,
   "metadata": {},
   "outputs": [],
   "source": [
    "station = stations.iloc[0]"
   ]
  },
  {
   "cell_type": "code",
   "execution_count": 6,
   "metadata": {
    "scrolled": true
   },
   "outputs": [
    {
     "data": {
      "text/plain": [
       "CITY                                         Chicago\n",
       "USAF                                          725300\n",
       "WBAN                                           94846\n",
       "STATION NAME    CHICAGO O'HARE INTERNATIONAL AIRPORT\n",
       "CTRY                                              US\n",
       "STATE                                             IL\n",
       "ICAO                                            KORD\n",
       "LAT                                           41.995\n",
       "LON                                          -87.934\n",
       "ELEV(M)                                        201.8\n",
       "BEGIN                                       19461001\n",
       "END                                         20171107\n",
       "Name: 0, dtype: object"
      ]
     },
     "execution_count": 6,
     "metadata": {},
     "output_type": "execute_result"
    }
   ],
   "source": [
    "station"
   ]
  },
  {
   "cell_type": "code",
   "execution_count": 7,
   "metadata": {},
   "outputs": [
    {
     "name": "stdout",
     "output_type": "stream",
     "text": [
      "2004\n",
      "2005\n",
      "2006\n",
      "2007\n",
      "2008\n",
      "2009\n",
      "2010\n",
      "2011\n",
      "2012\n",
      "2013\n"
     ]
    }
   ],
   "source": [
    "wth = pd.DataFrame()\n",
    "for year in np.arange(2004,2014):\n",
    "    print(year)\n",
    "    #if ((station.CITY=='Worcester') and (year<2010)): continue\n",
    "    wth = pd.concat([wth, readNOAA_ISH(str(station.USAF), str(station.WBAN), year)])"
   ]
  },
  {
   "cell_type": "code",
   "execution_count": 37,
   "metadata": {},
   "outputs": [
    {
     "data": {
      "text/plain": [
       "<matplotlib.axes._subplots.AxesSubplot at 0x1195b5e48>"
      ]
     },
     "execution_count": 37,
     "metadata": {},
     "output_type": "execute_result"
    },
    {
     "data": {
      "image/png": "[encoded data removed]",
      "text/plain": [
       "<matplotlib.figure.Figure at 0x119541390>"
      ]
     },
     "metadata": {},
     "output_type": "display_data"
    }
   ],
   "source": [
    "wth_3hr = wth.resample('3H').mean()\n",
    "wth_3hr['hour'] = wth_3hr.index.hour\n",
    "wth_3hr.boxplot(column=['Ws'], by='hour', figsize=(16,8))"
   ]
  },
  {
   "cell_type": "code",
   "execution_count": 62,
   "metadata": {},
   "outputs": [],
   "source": [
    "morning = wth.between_time(start_time='00:00:00', end_time='07:00:00')\n",
    "daytime = wth.between_time(start_time='08:00:00', end_time='15:00:00')\n",
    "evening = wth.between_time(start_time='16:00:00', end_time='23:00:00')"
   ]
  },
  {
   "cell_type": "code",
   "execution_count": 63,
   "metadata": {},
   "outputs": [
    {
     "data": {
      "text/plain": [
       "Text(0.5,1,'Hourly wind data for Chicago')"
      ]
     },
     "execution_count": 63,
     "metadata": {},
     "output_type": "execute_result"
    },
    {
     "data": {
      "image/png": "[encoded data removed]",
      "text/plain": [
       "<matplotlib.figure.Figure at 0x11be898d0>"
      ]
     },
     "metadata": {},
     "output_type": "display_data"
    }
   ],
   "source": [
    "figure(figsize=(16,8))\n",
    "morning.Ws.plot(kind='hist',bins=np.arange(0,20,1),alpha=0.5, color='yellow', legend='morning')\n",
    "daytime.Ws.plot(kind='hist',bins=np.arange(0,20,1),alpha=0.5, color='green',  legend='daytime')\n",
    "evening.Ws.plot(kind='hist',bins=np.arange(0,20,1),alpha=0.5, color='red',    legend='evening')\n",
    "title('Hourly wind data for '+station.CITY)"
   ]
  },
  {
   "cell_type": "markdown",
   "metadata": {},
   "source": [
    "## PHOENIX"
   ]
  },
  {
   "cell_type": "code",
   "execution_count": 38,
   "metadata": {},
   "outputs": [],
   "source": [
    "station = stations.iloc[6]"
   ]
  },
  {
   "cell_type": "code",
   "execution_count": 39,
   "metadata": {},
   "outputs": [
    {
     "data": {
      "text/plain": [
       "CITY                                    Phoenix\n",
       "USAF                                     722780\n",
       "WBAN                                      23183\n",
       "STATION NAME    PHOENIX SKY HARBOR INTL AIRPORT\n",
       "CTRY                                         US\n",
       "STATE                                        AZ\n",
       "ICAO                                       KPHX\n",
       "LAT                                      33.428\n",
       "LON                                    -112.004\n",
       "ELEV(M)                                   337.4\n",
       "BEGIN                                  19730101\n",
       "END                                    20171107\n",
       "Name: 6, dtype: object"
      ]
     },
     "execution_count": 39,
     "metadata": {},
     "output_type": "execute_result"
    }
   ],
   "source": [
    "station"
   ]
  },
  {
   "cell_type": "code",
   "execution_count": 40,
   "metadata": {},
   "outputs": [
    {
     "name": "stdout",
     "output_type": "stream",
     "text": [
      "2004\n",
      "2005\n",
      "2006\n",
      "2007\n",
      "2008\n",
      "2009\n",
      "2010\n",
      "2011\n",
      "2012\n",
      "2013\n"
     ]
    }
   ],
   "source": [
    "wth = pd.DataFrame()\n",
    "for year in np.arange(2004,2014):\n",
    "    print(year)\n",
    "    #if ((station.CITY=='Worcester') and (year<2010)): continue\n",
    "    wth = pd.concat([wth, readNOAA_ISH(str(station.USAF), str(station.WBAN), year)])"
   ]
  },
  {
   "cell_type": "code",
   "execution_count": 41,
   "metadata": {},
   "outputs": [
    {
     "data": {
      "text/plain": [
       "<matplotlib.axes._subplots.AxesSubplot at 0x119dcd860>"
      ]
     },
     "execution_count": 41,
     "metadata": {},
     "output_type": "execute_result"
    },
    {
     "data": {
      "image/png": "[encoded data removed]",
      "text/plain": [
       "<matplotlib.figure.Figure at 0x119555eb8>"
      ]
     },
     "metadata": {},
     "output_type": "display_data"
    }
   ],
   "source": [
    "wth_3hr = wth.resample('3H').mean()\n",
    "wth_3hr['hour'] = wth_3hr.index.hour\n",
    "wth_3hr.boxplot(column=['Ws'], by='hour', figsize=(16,8))"
   ]
  },
  {
   "cell_type": "code",
   "execution_count": 42,
   "metadata": {},
   "outputs": [],
   "source": [
    "morning = wth.between_time(start_time='00:00:00', end_time='07:00:00')\n",
    "daytime = wth.between_time(start_time='08:00:00', end_time='15:00:00')\n",
    "evening = wth.between_time(start_time='16:00:00', end_time='23:00:00')"
   ]
  },
  {
   "cell_type": "code",
   "execution_count": 43,
   "metadata": {},
   "outputs": [
    {
     "data": {
      "text/plain": [
       "Text(0.5,1,'Hourly wind data for Phoenix')"
      ]
     },
     "execution_count": 43,
     "metadata": {},
     "output_type": "execute_result"
    },
    {
     "data": {
      "image/png": "[encoded data removed]",
      "text/plain": [
       "<matplotlib.figure.Figure at 0x122859550>"
      ]
     },
     "metadata": {},
     "output_type": "display_data"
    }
   ],
   "source": [
    "figure(figsize=(16,8))\n",
    "morning.Ws.plot(kind='hist',bins=np.arange(0,20,1),alpha=0.5, color='yellow', legend='morning')\n",
    "daytime.Ws.plot(kind='hist',bins=np.arange(0,20,1),alpha=0.5, color='green',  legend='daytime')\n",
    "evening.Ws.plot(kind='hist',bins=np.arange(0,20,1),alpha=0.5, color='red',    legend='evening')\n",
    "title('Hourly wind data for '+station.CITY)"
   ]
  },
  {
   "cell_type": "code",
   "execution_count": null,
   "metadata": {},
   "outputs": [],
   "source": []
  }
 ],
 "metadata": {
  "kernelspec": {
   "display_name": "Python 3",
   "language": "python",
   "name": "python3"
  },
  "language_info": {
   "codemirror_mode": {
    "name": "ipython",
    "version": 3
   },
   "file_extension": ".py",
   "mimetype": "text/x-python",
   "name": "python",
   "nbconvert_exporter": "python",
   "pygments_lexer": "ipython3",
   "version": "3.6.0"
  }
 },
 "nbformat": 4,
 "nbformat_minor": 2
}
