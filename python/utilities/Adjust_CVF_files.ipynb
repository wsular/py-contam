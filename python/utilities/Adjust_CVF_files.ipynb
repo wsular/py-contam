{
 "cells": [
  {
   "cell_type": "markdown",
   "metadata": {},
   "source": [
    "# Adjust contam CVF files"
   ]
  },
  {
   "cell_type": "code",
   "execution_count": 2,
   "metadata": {},
   "outputs": [],
   "source": [
    "import numpy  as np\n",
    "import pandas as pd"
   ]
  },
  {
   "cell_type": "markdown",
   "metadata": {},
   "source": [
    "### 1. Set directory and filename"
   ]
  },
  {
   "cell_type": "code",
   "execution_count": 3,
   "metadata": {},
   "outputs": [],
   "source": [
    "d = '/mnt/data/lima/iaq/contam_modeling/modeling_test_homes/wth_ctm_cvf/'\n",
    "fn = 'Atmo7S_SmartHomesData.cvf'"
   ]
  },
  {
   "cell_type": "markdown",
   "metadata": {},
   "source": [
    "### 2. Insert times of value changes"
   ]
  },
  {
   "cell_type": "code",
   "execution_count": 4,
   "metadata": {},
   "outputs": [],
   "source": [
    "data = np.array(\n",
    "[[\"2020-09-20 23:00:00\",\"2020-09-22 16:30:00\",0.000,0.000,1.000],\n",
    " [\"2020-09-22 16:30:00\",\"2020-09-23 17:00:00\",1.000,0.005,1.000],\n",
    " [\"2020-09-23 17:00:00\",\"2020-09-29 16:30:00\",1.000,0.005,0.000],\n",
    " [\"2020-09-29 16:30:00\",\"2020-09-30 16:30:00\",1.000,0.005,1.000],\n",
    " [\"2020-09-30 16:30:00\",\"2020-10-03 16:30:00\",0.000,0.000,1.000]]\n",
    "               )"
   ]
  },
  {
   "cell_type": "markdown",
   "metadata": {},
   "source": [
    "### 3. Convert data to a Pandas dataframe for processing"
   ]
  },
  {
   "cell_type": "code",
   "execution_count": 5,
   "metadata": {},
   "outputs": [
    {
     "data": {
      "text/html": [
       "<div>\n",
       "<style scoped>\n",
       "    .dataframe tbody tr th:only-of-type {\n",
       "        vertical-align: middle;\n",
       "    }\n",
       "\n",
       "    .dataframe tbody tr th {\n",
       "        vertical-align: top;\n",
       "    }\n",
       "\n",
       "    .dataframe thead th {\n",
       "        text-align: right;\n",
       "    }\n",
       "</style>\n",
       "<table border=\"1\" class=\"dataframe\">\n",
       "  <thead>\n",
       "    <tr style=\"text-align: right;\">\n",
       "      <th></th>\n",
       "      <th>btime</th>\n",
       "      <th>etime</th>\n",
       "      <th>value1</th>\n",
       "      <th>value2</th>\n",
       "      <th>value3</th>\n",
       "    </tr>\n",
       "  </thead>\n",
       "  <tbody>\n",
       "    <tr>\n",
       "      <th>0</th>\n",
       "      <td>2020-09-20 23:00:00</td>\n",
       "      <td>2020-09-22 16:30:00</td>\n",
       "      <td>0.0</td>\n",
       "      <td>0.0</td>\n",
       "      <td>1.0</td>\n",
       "    </tr>\n",
       "    <tr>\n",
       "      <th>1</th>\n",
       "      <td>2020-09-22 16:30:00</td>\n",
       "      <td>2020-09-23 17:00:00</td>\n",
       "      <td>1.0</td>\n",
       "      <td>0.005</td>\n",
       "      <td>1.0</td>\n",
       "    </tr>\n",
       "    <tr>\n",
       "      <th>2</th>\n",
       "      <td>2020-09-23 17:00:00</td>\n",
       "      <td>2020-09-29 16:30:00</td>\n",
       "      <td>1.0</td>\n",
       "      <td>0.005</td>\n",
       "      <td>0.0</td>\n",
       "    </tr>\n",
       "    <tr>\n",
       "      <th>3</th>\n",
       "      <td>2020-09-29 16:30:00</td>\n",
       "      <td>2020-09-30 16:30:00</td>\n",
       "      <td>1.0</td>\n",
       "      <td>0.005</td>\n",
       "      <td>1.0</td>\n",
       "    </tr>\n",
       "    <tr>\n",
       "      <th>4</th>\n",
       "      <td>2020-09-30 16:30:00</td>\n",
       "      <td>2020-10-03 16:30:00</td>\n",
       "      <td>0.0</td>\n",
       "      <td>0.0</td>\n",
       "      <td>1.0</td>\n",
       "    </tr>\n",
       "  </tbody>\n",
       "</table>\n",
       "</div>"
      ],
      "text/plain": [
       "                btime               etime value1 value2 value3\n",
       "0 2020-09-20 23:00:00 2020-09-22 16:30:00    0.0    0.0    1.0\n",
       "1 2020-09-22 16:30:00 2020-09-23 17:00:00    1.0  0.005    1.0\n",
       "2 2020-09-23 17:00:00 2020-09-29 16:30:00    1.0  0.005    0.0\n",
       "3 2020-09-29 16:30:00 2020-09-30 16:30:00    1.0  0.005    1.0\n",
       "4 2020-09-30 16:30:00 2020-10-03 16:30:00    0.0    0.0    1.0"
      ]
     },
     "execution_count": 5,
     "metadata": {},
     "output_type": "execute_result"
    }
   ],
   "source": [
    "df = pd.DataFrame({'btime':  pd.to_datetime(data[:,0]),\n",
    "                   'etime':  pd.to_datetime(data[:,1]),\n",
    "                   'value1': data[:,2],\n",
    "                   'value2': data[:,3],\n",
    "                   'value3': data[:,4]})\n",
    "\n",
    "df"
   ]
  },
  {
   "cell_type": "markdown",
   "metadata": {},
   "source": [
    "### 4. Open a new file for adjusted data and process data"
   ]
  },
  {
   "cell_type": "code",
   "execution_count": 15,
   "metadata": {},
   "outputs": [],
   "source": [
    "# Create new file for adjusted data\n",
    "fa = open(d + fn + '.adjusted', 'wt')\n",
    "\n",
    "# Open original file and determine where end-of-file (eof) is\n",
    "fo = open(d + fn, 'rt')\n",
    "fo.seek(0,2); eof = fo.tell(); fo.seek(0);"
   ]
  },
  {
   "cell_type": "code",
   "execution_count": 16,
   "metadata": {},
   "outputs": [],
   "source": [
    "cnt = 0\n",
    "btime  = df.iloc[cnt].btime.strftime('%m/%d\\t%H:%M:%S')\n",
    "etime  = df.iloc[cnt].etime.strftime('%m/%d\\t%H:%M:%S')\n",
    "value1 = df.iloc[cnt].value1\n",
    "value2 = df.iloc[cnt].value2\n",
    "value3 = df.iloc[cnt].value3\n",
    "\n",
    "# Skip header lines\n",
    "line = fo.readline()\n",
    "while line.find(btime)<0:\n",
    "    fa.write(line);\n",
    "    line = fo.readline()\n",
    "\n",
    "# Now process data lines and add values\n",
    "while fo.tell() < eof:\n",
    "    if line.find(etime)<0:\n",
    "        fa.write(line[:-1] + '\\t' + value1 + '\\t' + value2 + '\\t' + value3 + '\\n');\n",
    "        line = fo.readline()\n",
    "    else:\n",
    "        try:\n",
    "            cnt    = cnt + 1\n",
    "            btime  = df.iloc[cnt].btime.strftime('%m/%d\\t%H:%M:%S')\n",
    "            etime  = df.iloc[cnt].etime.strftime('%m/%d\\t%H:%M:%S')\n",
    "            value1 = df.iloc[cnt].value1\n",
    "            value2 = df.iloc[cnt].value2\n",
    "            value3 = df.iloc[cnt].value3\n",
    "            # print(df.iloc[cnt])\n",
    "        except:\n",
    "            break\n",
    "\n",
    "# When EOF is reached, write the last line\n",
    "fa.write(line[:-1] + '\\t' + value1 + '\\t' + value2 + '\\t' + value3 + '\\n');\n",
    "\n",
    "# Close both files\n",
    "fa.close()\n",
    "fo.close()"
   ]
  }
 ],
 "metadata": {
  "kernelspec": {
   "display_name": "Python (Work)",
   "language": "python",
   "name": "work"
  },
  "language_info": {
   "codemirror_mode": {
    "name": "ipython",
    "version": 3
   },
   "file_extension": ".py",
   "mimetype": "text/x-python",
   "name": "python",
   "nbconvert_exporter": "python",
   "pygments_lexer": "ipython3",
   "version": "3.6.10"
  }
 },
 "nbformat": 4,
 "nbformat_minor": 4
}
